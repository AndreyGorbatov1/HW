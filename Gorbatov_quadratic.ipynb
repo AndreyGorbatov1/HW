{
 "cells": [
  {
   "cell_type": "markdown",
   "metadata": {},
   "source": [
    "## Solve a quadratic equation, $x^2 + b x + c = 0$."
   ]
  },
  {
   "cell_type": "code",
   "execution_count": 1,
   "metadata": {
    "collapsed": true
   },
   "outputs": [],
   "source": [
    "import cmath\n",
    "import numpy as np\n",
    "from numpy import allclose\n",
    "from decimal import Decimal"
   ]
  },
  {
   "cell_type": "code",
   "execution_count": 2,
   "metadata": {
    "collapsed": true
   },
   "outputs": [],
   "source": [
    "def solve_quad(b, c):\n",
    "    b = Decimal(b)\n",
    "    c = Decimal(c)\n",
    "    if c == 0: #случай, когда отсутствуют b и/или c\n",
    "        if b == 0:\n",
    "            x1 = float(0)\n",
    "            x2 = x1\n",
    "        x1 = float(-b)\n",
    "        x2 = 0\n",
    "    else:\n",
    "        D = b**2 - 4*c\n",
    "        if D > 0: #вещественный случай\n",
    "            x1 = float((-b + np.sqrt(D))/2)\n",
    "            x2 = float((-b - np.sqrt(D))/2)\n",
    "        elif D == 0: #случай корня кратности два\n",
    "            x1 = float(-b/2)\n",
    "            x2 = x1\n",
    "        else: #комплексный случай\n",
    "            b = float(b)\n",
    "            c = float(c)\n",
    "            D = float(D)\n",
    "            #применяем библиотеку cmath для нахождения комплексных корней\n",
    "            x1 = (-b + cmath.sqrt(D))/2\n",
    "            x2 = (-b - cmath.sqrt(D))/2\n",
    "    return x1, x2"
   ]
  },
  {
   "cell_type": "code",
   "execution_count": 5,
   "metadata": {
    "collapsed": true
   },
   "outputs": [],
   "source": [
    "test = [{'b': 4.0, 'c': 3.0},\n",
    "            {'b': 2.0, 'c': 1.0},\n",
    "            {'b': 0.5, 'c': 4.0},\n",
    "            {'b': -1e10, 'c': 4.0},\n",
    "            {'b': 0.0, 'c': 0.0},\n",
    "            {'b': 4.0, 'c': 0.0},\n",
    "            {'b': 0.0, 'c': 3.0},\n",
    "            {'b':-7.0,'c':1.0}]"
   ]
  },
  {
   "cell_type": "code",
   "execution_count": 6,
   "metadata": {},
   "outputs": [
    {
     "name": "stdout",
     "output_type": "stream",
     "text": [
      "True\n",
      "True\n",
      "True\n",
      "True\n",
      "True\n",
      "True\n",
      "True\n",
      "True\n"
     ]
    }
   ],
   "source": [
    "for var in test:\n",
    "    x1, x2 = solve_quad(**var)\n",
    "    print(allclose(x1*x2, var['c']))"
   ]
  },
  {
   "cell_type": "code",
   "execution_count": null,
   "metadata": {
    "collapsed": true
   },
   "outputs": [],
   "source": []
  },
  {
   "cell_type": "code",
   "execution_count": null,
   "metadata": {
    "collapsed": true
   },
   "outputs": [],
   "source": []
  }
 ],
 "metadata": {
  "kernelspec": {
   "display_name": "Python 3",
   "language": "python",
   "name": "python3"
  },
  "language_info": {
   "codemirror_mode": {
    "name": "ipython",
    "version": 3
   },
   "file_extension": ".py",
   "mimetype": "text/x-python",
   "name": "python",
   "nbconvert_exporter": "python",
   "pygments_lexer": "ipython3",
   "version": "3.6.3"
  }
 },
 "nbformat": 4,
 "nbformat_minor": 2
}
