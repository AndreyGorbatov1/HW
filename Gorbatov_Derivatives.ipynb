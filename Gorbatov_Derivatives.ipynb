{
 "cells": [
  {
   "cell_type": "markdown",
   "metadata": {},
   "source": [
    "1. Написать программу, оценивающую значение *машинного эпсилон* для стандартных чисел с двойной точностью."
   ]
  },
  {
   "cell_type": "code",
   "execution_count": 1,
   "metadata": {},
   "outputs": [],
   "source": [
    "import numpy as np\n",
    "import cmath\n",
    "import matplotlib.pyplot as plt"
   ]
  },
  {
   "cell_type": "code",
   "execution_count": 2,
   "metadata": {},
   "outputs": [
    {
     "name": "stdout",
     "output_type": "stream",
     "text": [
      "epsilon = 2.220446049250313e-16\n"
     ]
    }
   ],
   "source": [
    "eps = 1\n",
    "while 1 + eps/2 != 1:\n",
    "    eps = eps/2\n",
    "print ('epsilon =', eps)"
   ]
  },
  {
   "cell_type": "markdown",
   "metadata": {},
   "source": [
    "2. Привести пример функции, производную которой нельзя вычислить методом дифференцирования с комплексным шагом."
   ]
  },
  {
   "cell_type": "code",
   "execution_count": 3,
   "metadata": {},
   "outputs": [],
   "source": [
    "# Функции, которые нельзя неоднозначно продолжить на комплексную плоскость,\n",
    "#например f = log"
   ]
  },
  {
   "cell_type": "markdown",
   "metadata": {},
   "source": [
    "3. Релизовать алгоритм вычисления первой производной методом дифференцирования с комплексным шагом. Для функции с известным значением производной, изучить сходимость численного ответа при уменьшении шага."
   ]
  },
  {
   "cell_type": "markdown",
   "metadata": {},
   "source": [
    "Вычислим производную в точке Pi/4 для функции sin(x)"
   ]
  },
  {
   "cell_type": "code",
   "execution_count": 4,
   "metadata": {},
   "outputs": [],
   "source": [
    "def f(x):\n",
    "    return np.sin(x)"
   ]
  },
  {
   "cell_type": "code",
   "execution_count": 5,
   "metadata": {},
   "outputs": [
    {
     "data": {
      "text/plain": [
       "[<matplotlib.lines.Line2D at 0x2b87d4f17b8>]"
      ]
     },
     "execution_count": 5,
     "metadata": {},
     "output_type": "execute_result"
    },
    {
     "data": {
      "image/png": "[encoded data removed]",
      "text/plain": [
       "<Figure size 432x288 with 1 Axes>"
      ]
     },
     "metadata": {
      "needs_background": "light"
     },
     "output_type": "display_data"
    }
   ],
   "source": [
    "x_axis = np.linspace(0, np.pi/2, 1001)\n",
    "plt.plot(x_axis, [f(x) for x in x_axis])\n",
    "plt.plot(np.pi/4, f(np.pi/4), 'o', color = 'Red')"
   ]
  },
  {
   "cell_type": "markdown",
   "metadata": {},
   "source": [
    "## Дифференцирование с комплексным шагом\n",
    "\n",
    "J. N. Lyness, C. B. Moler, _Numerical differentiation of analytic functions_, SIAM J. Numerical Analysis **4**, 202 (1967).\n",
    "\n",
    "http://blogs.mathworks.com/cleve/2013/10/14/complex-step-differentiation/\n",
    "\n",
    "Предположим, что функция $f(x)$ может быть продолжена в комплексную плоскость, и результат, $f(z) = u(x, y) + i v(x, y)$, является аналитической функцией переменной $z = x + iy$. Тогда, согласно условиям Коши-Римана:\n",
    "\n",
    "$$\n",
    "\\frac{\\partial u }{\\partial x} = \\frac{\\partial v}{\\partial y}\n",
    "$$\n",
    "\n",
    "В точке $z = x + i\\,0$,\n",
    "\n",
    "\\begin{align}\n",
    "\\frac{df}{dx} &\\equiv \\left. \\frac{\\partial u}{\\partial x} \\,\\right|_{(x, 0)} \\\\\n",
    "              &= \\frac{\\partial v}{\\partial y} \\\\\n",
    "              &= \\lim_{h\\to 0} \\frac{v(x, h) - v(x, 0)}{h} \\qquad\\qquad (v(x, 0)\\equiv 0)\\\\\n",
    "              &\\equiv \\lim_{h\\to 0} \\frac{\\mathrm{Im}\\,{f(x + ih)}}{h}\n",
    "\\end{align}"
   ]
  },
  {
   "cell_type": "code",
   "execution_count": 6,
   "metadata": {},
   "outputs": [],
   "source": [
    "def deriv_complex(f, x, h):\n",
    "    return( f(x + 1j*h).imag / h )"
   ]
  },
  {
   "cell_type": "code",
   "execution_count": 7,
   "metadata": {},
   "outputs": [
    {
     "name": "stdout",
     "output_type": "stream",
     "text": [
      "Шаг = 0.1\n",
      "Производная = 0.7082858818844947\n",
      "\n",
      "Шаг = 0.01\n",
      "Производная = 0.707118566358493\n",
      "\n",
      "Шаг = 0.001\n",
      "Производная = 0.7071068990376835\n",
      "\n",
      "Шаг = 0.0001\n",
      "Производная = 0.7071067823650589\n",
      "\n",
      "Шаг = 1e-05\n",
      "Производная = 0.7071067811983327\n",
      "\n",
      "Шаг = 1e-06\n",
      "Производная = 0.7071067811866655\n",
      "\n",
      "Шаг = 1e-07\n",
      "Производная = 0.7071067811865488\n",
      "\n",
      "Шаг = 1e-08\n",
      "Производная = 0.7071067811865476\n",
      "\n",
      "Шаг = 1e-09\n",
      "Производная = 0.7071067811865476\n",
      "\n"
     ]
    }
   ],
   "source": [
    "for i in range(1, 10):\n",
    "    h = 10**(-i) #комплексный шаг\n",
    "    print('Шаг =', h)\n",
    "    print('Производная =',deriv_complex(f, np.pi/4, h))\n",
    "    print()"
   ]
  },
  {
   "cell_type": "code",
   "execution_count": null,
   "metadata": {},
   "outputs": [],
   "source": []
  }
 ],
 "metadata": {
  "kernelspec": {
   "display_name": "Python 3",
   "language": "python",
   "name": "python3"
  },
  "language_info": {
   "codemirror_mode": {
    "name": "ipython",
    "version": 3
   },
   "file_extension": ".py",
   "mimetype": "text/x-python",
   "name": "python",
   "nbconvert_exporter": "python",
   "pygments_lexer": "ipython3",
   "version": "3.6.7"
  }
 },
 "nbformat": 4,
 "nbformat_minor": 2
}
